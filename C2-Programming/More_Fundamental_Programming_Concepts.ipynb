{
  "nbformat": 4,
  "nbformat_minor": 0,
  "metadata": {
    "colab": {
      "provenance": [],
      "authorship_tag": "ABX9TyNywMwkQLVx+rGTpysDScUB",
      "include_colab_link": true
    },
    "kernelspec": {
      "name": "python3",
      "display_name": "Python 3"
    },
    "language_info": {
      "name": "python"
    }
  },
  "cells": [
    {
      "cell_type": "markdown",
      "metadata": {
        "id": "view-in-github",
        "colab_type": "text"
      },
      "source": [
        "<a href=\"https://colab.research.google.com/github/damianiRiccardo90/Hacking/blob/master/C2-Programming/More_Fundamental_Programming_Concepts.ipynb\" target=\"_parent\"><img src=\"https://colab.research.google.com/assets/colab-badge.svg\" alt=\"Open In Colab\"/></a>"
      ]
    },
    {
      "cell_type": "markdown",
      "source": [
        "# *__More Fundamental Programming Concepts__*\n",
        "\n",
        "In the following sections, more universal programming concepts will be introduced. In the following sections, more universal programming concepts will be introduced. These concepts are used in many programming languages, with a few syntactical differences. As I introduce these concepts, I will integrate them into pseudo-code examples using C-like syntax. By the end, the pseudo-code should look very similar to C code."
      ],
      "metadata": {
        "id": "GSfnz_tEbF7j"
      }
    },
    {
      "cell_type": "markdown",
      "source": [
        "### *__Variables__*\n",
        "\n",
        "The counter used in the for loop is actually a type of variable. A __variable__ can simply be thought of as an object that holds data that can be changed, hence the name. There are also variables that don't change, which are aptly called __constants__. Returning to the driving example, the speed of the car would be a variable, while the color of the car would be a constant. In pseudo-code, variables are simple abstract concepts, but in C (and in many other languages), variables must be declared and given a type before they can be used. This is because a C program will eventually be compiled into an executable program. Like a cooking recipe that lists all the required ingredients before giving the instructions, variable declarations allow you to make preparations before getting into the meat of the program. Ultimately, all variable are stored in memory somewhere, and their declarations allow the compiler to organize this memory more efficiently. In the end though, despite all of the variable type declarations, everything is all just memory.\n",
        "\n",
        "In C, each variable is given a type that describes the information that is meant to be stored in that variable. Some of the most common types are __int__ (integer valeus), __float__ (decimal floating-point values), and __char__ (single character values). Variables are declared simply by using these keywords before listing the variables, as you can see below.\n",
        "\n",
        "```c\n",
        "int a, b;\n",
        "float k;\n",
        "char z;\n",
        "```\n",
        "\n",
        "The variables __a__ and __b__ are now defined as integers, __k__ can accept floating-point values (such as 3.14), and __z__ is expected to hold a character value, like _A_ or _w_. Variables can be assigned values when they are declared or anytime afterward, using the __=__ operator.\n",
        "\n",
        "```c\n",
        "int a = 13, b;\n",
        "float k;\n",
        "char z = 'A';\n",
        "\n",
        "k = 3.14;\n",
        "z = 'w';\n",
        "b = a + 5;\n",
        "```\n",
        "\n",
        "After the following instructions are executed, the variables _"
      ],
      "metadata": {
        "id": "iI5vd0Wu8Cyc"
      }
    }
  ]
}