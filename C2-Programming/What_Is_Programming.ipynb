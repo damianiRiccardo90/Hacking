{
  "nbformat": 4,
  "nbformat_minor": 0,
  "metadata": {
    "colab": {
      "provenance": [],
      "authorship_tag": "ABX9TyNPYv+tin4rMzK+cW8cmxsY",
      "include_colab_link": true
    },
    "kernelspec": {
      "name": "python3",
      "display_name": "Python 3"
    },
    "language_info": {
      "name": "python"
    }
  },
  "cells": [
    {
      "cell_type": "markdown",
      "metadata": {
        "id": "view-in-github",
        "colab_type": "text"
      },
      "source": [
        "<a href=\"https://colab.research.google.com/github/damianiRiccardo90/Hacking/blob/master/C2-Programming/What_Is_Programming.ipynb\" target=\"_parent\"><img src=\"https://colab.research.google.com/assets/colab-badge.svg\" alt=\"Open In Colab\"/></a>"
      ]
    },
    {
      "cell_type": "markdown",
      "source": [
        "# *__Programming__*\n",
        "\n",
        "_Hacker_ is a term for both those who write code and those who exploit it. Even though these two groups of hackers have different end goals, both groups use similar problem-solving techniques. Since an understanding of programming helps those who exploit, and an understanding of exploitation helps those who program, many hackers do both. There are interesting hacks found in both the techniques used to write elegant code and the techniques used to exploit programs. Hacking is really just the act of finding a clever and counterintuitive solution to a problem.\n",
        "\n",
        "The hacks found in program exploits usually use the rules of the computer to bypass security in ways never intended. Programming hacks are similar in that they also use the rules of the computer in new and inventive ways, but the final goal is efficiency or smaller source code, not necessarily a security compromise. There are actually an infinite number of programs that can be written to accomplish any given task, but most of these solutions are unnecessarily large, complex, and sloppy. The few solutions that remain are small, efficient, and neat. Programs that have these qualities are said to have _elegance_, and the clever and inventive solutions that tend to lead to this efficiency are called _hacks_. Hackers on both sides of programming appreciate both the beauty of elegant code and the ingenuity of clever hacks.\n",
        "\n",
        "In the business world, more importance is placed on churning out functional code than on achieving clever hacks and elegance. Because of the tremendous expontential growth of computational power and memory, spending an extra five hours to create a slightly faster and more memory-efficient piece of code just doesn't make business sense when dealing with modern computers that have gigahertz of processing cycles and gigabytes of memory. While time and memory optimizations go without notice by all but the most sophisticated of users, a new feature is marketable. When the bottom line is money, spending time on clever hacks for optimization just doesn't make sense.\n",
        "\n",
        "True appreciation of programming elegance is left for the hackers: Computer hobbysts whose end goal isn't to make a profit but to squeeze every possible bit of functionality out of their old Commodore 64s, exploit writers who need to write tiny and amazing pieces of code to slip through narrow security cracks, and anyone else who appreciates the pursuit and the challenge of finding the best possible solution. These are the people who get excited about programming and really appreciate the beauty of an elegant piece of code or the ingenuity of a clever hack. Since an understanding of programming is a prerequisite to understanding how programs can be exploited, programming is a natrual starting point."
      ],
      "metadata": {
        "id": "4VXHyut-Y4bX"
      }
    },
    {
      "cell_type": "markdown",
      "source": [
        "### *__What is Programming?__*\n",
        "\n",
        "Programming is a very natural and intuitive concept. A program is nothing more than a series of statements written in a specific language. Programs are everywhere, and even the technophobes of the world use programs every day. Driving directions, cooking recipes, football plays, and DNA are all types of programs. A typical program for driving directions might look something like this:\n",
        "\n",
        "```\n",
        "Start out down Main Street headed east. Continue on Main Street until you see a\n",
        "church on your right. If the street is blocked because of construction, turn right\n",
        "there at 15th Street, turn left on Pine Street, and then turn right on 16th Street.\n",
        "Otherwise, you can just continue and make a right on 16th Street. Continue on 16th\n",
        "Street, and turn left onto Destination Road. Drive straight down Detination Road for\n",
        "5 miles, and then you'll see the house on the right. The address 743 Destination Road.\n",
        "```\n",
        "\n",
        "Anyone who knows English can understand and follow these driving directions, since they're written in English. Granted, they're not eloquent, but each instruction is clear and easy to understand, at least for someone who reads English.\n",
        "\n",
        "But a computer doesn't natively understand English; it only understands machine language. To instruct a computer to do something, the instructions must be written in its language. However, __machine language__ is arcane and difficult to work with, it consists of raw bits and bytes, and it differs from architecture to architecture. To write a program in machine language for an Intel x86 processor, you would have to figure out the value associated with each instruction, how each instruction iteracts, and myriad low-level details. Programming like this is painstaking and cumbersome, and it is certainly not intuitive.\n",
        "\n",
        "What's needed to overcome the complication of writing machine language is a translator. An __assembler__ is one form of machine-language translator, it is a program that translates assembly language into machine-readable code. __Assembly langiage__ is less cryptic than machine language, since it uses names for the different instructions and variables, instead of just using numbers. However, assembly language is still far from intuitive. The instruction names are very esoteric, and the language is architecture specific. Just as machine language for Intel x86 processors is different from machine language for Sparc processors, x86 assembly language is different from Sparc assembly language. Any program written using assembly language for one processor's architecture will not work on another processor's architecture, If a program is written in x86 assembly language, it must be rewritten to run on Sparc architecture. In addition, in order to write an effective program in assembly language, you must still know many low-level details of the processor architecture you are writing for.\n",
        "\n",
        "These problems can be mitigated by yet another form of translator called a compiler. A __compiler__ converts a high-level language into machine language. High-level languages are much more intuitive than assembly language and can be converted into many different types of machine language for different processor architectures. This means that if a program is written in a high-level language, the program only needs to be written once; the same piece of program code can be compiled into machine language for various specific architectures, C, C++, and Fortran are all examples of high-level languages. A program written in a high-level language is much more readable and English-like than assembly language or machine language, but it still must follow very strict rules about how the instructs are worded, or the compiler won't be able to understand it."
      ],
      "metadata": {
        "id": "_Zh0VZ71Y_Dh"
      }
    }
  ]
}