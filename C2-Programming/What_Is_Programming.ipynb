{
  "nbformat": 4,
  "nbformat_minor": 0,
  "metadata": {
    "colab": {
      "provenance": [],
      "authorship_tag": "ABX9TyN9vU7a9ewQVR7QDtSwZddJ",
      "include_colab_link": true
    },
    "kernelspec": {
      "name": "python3",
      "display_name": "Python 3"
    },
    "language_info": {
      "name": "python"
    }
  },
  "cells": [
    {
      "cell_type": "markdown",
      "metadata": {
        "id": "view-in-github",
        "colab_type": "text"
      },
      "source": [
        "<a href=\"https://colab.research.google.com/github/damianiRiccardo90/Hacking/blob/master/C2-Programming/What_Is_Programming.ipynb\" target=\"_parent\"><img src=\"https://colab.research.google.com/assets/colab-badge.svg\" alt=\"Open In Colab\"/></a>"
      ]
    },
    {
      "cell_type": "markdown",
      "source": [
        "# *__Programming__*\n",
        "\n",
        "_Hacker_ is a term"
      ],
      "metadata": {
        "id": "4VXHyut-Y4bX"
      }
    },
    {
      "cell_type": "markdown",
      "source": [
        "### *__What is Programming?__*\n",
        "\n",
        "Programming is a very natural and intuitive concept."
      ],
      "metadata": {
        "id": "_Zh0VZ71Y_Dh"
      }
    }
  ]
}