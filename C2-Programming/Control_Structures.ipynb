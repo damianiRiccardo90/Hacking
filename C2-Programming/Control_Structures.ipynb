{
  "nbformat": 4,
  "nbformat_minor": 0,
  "metadata": {
    "colab": {
      "provenance": [],
      "authorship_tag": "ABX9TyOh/Fho53bvE0cNSkxgi3kt",
      "include_colab_link": true
    },
    "kernelspec": {
      "name": "python3",
      "display_name": "Python 3"
    },
    "language_info": {
      "name": "python"
    }
  },
  "cells": [
    {
      "cell_type": "markdown",
      "metadata": {
        "id": "view-in-github",
        "colab_type": "text"
      },
      "source": [
        "<a href=\"https://colab.research.google.com/github/damianiRiccardo90/Hacking/blob/master/C2-Programming/Control_Structures.ipynb\" target=\"_parent\"><img src=\"https://colab.research.google.com/assets/colab-badge.svg\" alt=\"Open In Colab\"/></a>"
      ]
    },
    {
      "cell_type": "markdown",
      "source": [
        "# *__Control Structures__*\n",
        "\n",
        "Without control structures, a program would just be a series of instructions executed in sequential order. This is fine for very simple programs, but most programs, like the driving directions example, aren't that simple. The driving directions included statements like, _Continue on Main Street until you see a church on your right_ and _If the street is blocked because of construction...._ These statements are known as __control structures__, and they change the flow of the program's execution from a simple sequential order to a more complex and more useful flow."
      ],
      "metadata": {
        "id": "fw79HnyfaaAX"
      }
    },
    {
      "cell_type": "markdown",
      "source": [
        "### *__If-Then-Else__*\n",
        "\n",
        "In the case of our driving directions, Main Street could be under construction. If it is, a special set of instructions needs to address that situation. Otherwise, the original set of instrucions should be followed. These types of special cases can be accounted for in a program with one of the most natural control structures: The _if-then-else structure_. In general, it looks something like this:\n",
        "\n",
        "```\n",
        "If (condition) then\n",
        "{\n",
        "    Set of instructions to execute if the condition is met;\n",
        "}\n",
        "Else\n",
        "{\n",
        "    Set of instructions to execute if the condition is not met;\n",
        "}\n",
        "```\n",
        "\n",
        "For this book, a C-like pseudo-code will be used, so every instruction will end with a semicolon, and the sets of instructions will be grouped with curly braces and indentation. The if-then-else pseudo-code structure of the preceding driving directions might look something like this:\n",
        "\n",
        "```\n",
        "Drive down Main Street;\n",
        "If (street is blocked)\n",
        "{\n",
        "    Turn right on 15th Street;\n",
        "    Turn left on Pine Street;\n",
        "    Turn right on 16th Street;\n",
        "}\n",
        "Else\n",
        "{\n",
        "    Turn right on 16th Street;\n",
        "}\n",
        "```\n",
        "\n",
        "Each instruction is on its own line, and the various sets of conditional instructions are grouped between curly braces and indented for readability.\n",
        "In C and many other programming languages, the __then__ keyword is implied and therefore left out, so it has also been omitted in the preceding pseudo-code.\n",
        "Of course, other languages require the _then_ keyword in their syntax, BASIC, Fortran, and even Pascal, for example. These types of syntactical differences in programming languages are only skin dep; the underlying structure is still the same. Once a programmer understands the concepts these languages are trying to convey, learning the various syntactical variations is fairly trivial. Since C will be used the later sections, the pseudo-code used in this book will follow a C-like syntex, but remember that pseduo-code can take on many forms.\n",
        "\n",
        "Another common rule of C-like syntax is when a set of instructions bounded by curly braces consists of just one instruction, the curly braces are optional. Fro the sake of readability, it's still a good idea to indent these instructions, but it's not syntactically necessary. The driving directions from before can be rewritten following this rule to produce an equivalent piece of pseudo-code:\n",
        "\n",
        "```\n",
        "Drive down Main Street;\n",
        "If (street is blocked)\n",
        "{\n",
        "    Turn right on 15th Street;\n",
        "    Turn left on Pine Street;\n",
        "    Turn right on 16th Street;\n",
        "}\n",
        "Else\n",
        "    Turn right on 16th Street;\n",
        "```\n",
        "\n",
        "This rule is about sets of instructions holds true for all of the control structures mentioned in this book, and the rule itself can be described in pseudo-code.\n",
        "\n",
        "```\n",
        "If (there is only one instruction in a set of instructions)\n",
        "    The use of curly braces to group the instructions is optional;\n",
        "Else\n",
        "{\n",
        "    The use of curly braces is necessary;\n",
        "    Since there must be a logical way to group these instructions;\n",
        "}\n",
        "```\n",
        "\n",
        "Even the description of a syntax itself can be thought of as a simple program. There are variations of if-then-else, such as select/case statements, but the logic is still basically the same: If this happens do these things, otherwise do these other things (which could consist of even more if-then statements)."
      ],
      "metadata": {
        "id": "9O6iSUnGW9fv"
      }
    },
    {
      "cell_type": "markdown",
      "source": [
        "### *__While/Until Loops__*\n",
        "\n",
        "Another elementary programming concept is the while control structure, which is a type of loop. A programmer will often want to execute a set of instructions more than once. A program can accomplish this task through looping, but it requires a set of conditions that tells it when to stop looping, lest it continue into infinity. A __while loop__ says to execute the following set of instructions in a loop _while_ a condition is true. A simple program for a hungry mouse could look something like this:\n",
        "\n",
        "```\n",
        "While (you are hungy)\n",
        "{\n",
        "    Find some food;\n",
        "    Eat the food;\n",
        "}\n",
        "```\n",
        "\n",
        "The set of two instructions following the while statement will be repeated _while_ the mouse is still hungry. The amount of food the mouse finds each time could range from a tiny crumb to an entire loaf of bread. Similarily, the number of times the set of instructions in the while statement is executed changes depdending on how much food the mouse finds.\n",
        "\n",
        "Another variation on the while loop is an until loop, a syntax that is available in the programming language Perl (C doesn't use this syntax). An __until loop__ is simply a while loop with the conditional statement inverted. The same mouse program using an until loop would be:\n",
        "\n",
        "```\n",
        "Until (your are not hungry)\n",
        "{\n",
        "    Find some food;\n",
        "    Eat the food;\n",
        "}\n",
        "```\n",
        "\n",
        "Logically, any until-like statement can be converted into a while loop. The driving directions from before contained the statement _Continue on Main Street until you see a church on your right_. This can easily be changed into a standard while loop by simply inverting the condtion.\n",
        "\n",
        "```\n",
        "While (there is not a church on the right)\n",
        "    Drive down Main Street;\n",
        "```"
      ],
      "metadata": {
        "id": "R17tc-Uxar0_"
      }
    },
    {
      "cell_type": "markdown",
      "source": [
        "### *__For Loops__*\n",
        "\n",
        "Another looping control structure is the __for loop__. This is generally used when a programmer wants to loop for a certain number of iterations. The driving direction _Drive straight down Destination Road for 5 miles_ could be converted to a for loop that looks something like this:\n",
        "\n",
        "```\n",
        "For (5 iterations)\n",
        "    Drive straight for 1 mile;\n",
        "```\n",
        "\n",
        "In reality, a for loop is just a while loop with a counter. The same statement can be written as such:\n",
        "\n",
        "```\n",
        "Set the counter to 0;\n",
        "While (the counter is less than 5)\n",
        "{\n",
        "    Drive straight for 1 mile;\n",
        "    Add 1 to the counter;\n",
        "}\n",
        "```\n",
        "\n",
        "The C-like pseudo-code syntax of a for loop makes this even more apparent:\n",
        "\n",
        "```\n",
        "For (i=0; i<5; i++)\n",
        "    Drive straight for 1 mile;\n",
        "```\n",
        "\n",
        "In this case, the counter is called _i_, and the for statement is broken up into three sections, separated by semicolons. The first section declares the counter and sets it to its initial value, in this case 0. The second section is like a while statement using the counter, _While_ the counter meets this conditions, keep looping. The third and final section describes what action should be taken on the counter during each iteration. In this case, _i++_ is a shorthand way of saying, _Add 1 to the counter called i_.\n",
        "\n",
        "Using all of the control structures, the driving directions from page 6 can be converted into a C-like pseudo-code that looks something like this:\n",
        "\n",
        "```\n",
        "Begin going East on Main Street;\n",
        "While (there is not a church on the right)\n",
        "    Drive down Main Street;\n",
        "If (street is blocked)\n",
        "{\n",
        "    Turn right on 15th Street;\n",
        "    Turn left on Pine Street;\n",
        "    Turn right on 16th Street;\n",
        "}\n",
        "Else\n",
        "    Turn right on 16th Street;\n",
        "Turn left on Destination Road;\n",
        "For (i=0; i<5; i++)\n",
        "    Drive straight for 1 mile;\n",
        "Stop at 743 Destination Road;\n",
        "```\n",
        "\n"
      ],
      "metadata": {
        "id": "veLib7SeciLi"
      }
    }
  ]
}